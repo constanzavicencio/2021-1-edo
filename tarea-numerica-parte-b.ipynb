{
  "nbformat": 4,
  "nbformat_minor": 0,
  "metadata": {
    "kernelspec": {
      "display_name": "Python 3",
      "language": "python",
      "name": "python3"
    },
    "language_info": {
      "codemirror_mode": {
        "name": "ipython",
        "version": 3
      },
      "file_extension": ".py",
      "mimetype": "text/x-python",
      "name": "python",
      "nbconvert_exporter": "python",
      "pygments_lexer": "ipython3",
      "version": "3.6.4"
    },
    "colab": {
      "name": "Parte B.ipynb",
      "provenance": []
    }
  },
  "cells": [
    {
      "cell_type": "code",
      "metadata": {
        "id": "_adgUk1tRYEx"
      },
      "source": [
        "import numpy as np\n",
        "import matplotlib.pyplot as plt\n",
        "from math import *"
      ],
      "execution_count": 58,
      "outputs": []
    },
    {
      "cell_type": "code",
      "metadata": {
        "id": "QmYwAjLYRYEz"
      },
      "source": [
        "# PASO DEL TIEMPO\n",
        "h=0.1 # intervalos de tiempo son cada 0,1 millones de años\n",
        "t=100 # El tiempo está medido en millones de años\n",
        "n=int(t/h)"
      ],
      "execution_count": 59,
      "outputs": []
    },
    {
      "cell_type": "code",
      "metadata": {
        "id": "FF_e6nsxRYE0"
      },
      "source": [
        "T = np.linspace(0, t, num=n) # Modelamos el tiempo entre 0 y 100 millones de años (a partir de lo anterior, donde definimos t = 100)\n",
        "k_1 = [10,8,8,8,8,8]\n",
        "k_2 = [10,15,15,15,15,15]\n",
        "alpha =  [1.0,1.2,1.5,1.9,2.0,2.1]\n",
        "a_0 = [0.15,0.4,0.4,0.4,0.4,0.4]\n",
        "m_0 = [0.15,0.3,0.3,0.3,0.3,0.3]"
      ],
      "execution_count": 60,
      "outputs": []
    },
    {
      "cell_type": "code",
      "metadata": {
        "id": "DYuB0LYaRYE1"
      },
      "source": [
        "n_c = 0 # n_c representa la fila de la tabla (-1) del enunciado que estamos analizando"
      ],
      "execution_count": 61,
      "outputs": []
    },
    {
      "cell_type": "code",
      "metadata": {
        "id": "k9kWufXeRYE2"
      },
      "source": [
        "# Definimos las derivadas de a, m y s.\n",
        "# La derivada de s se obtiene a partir de la ecuación a + m + s = 1. Quedando así s = 1 - m - a.\n",
        "# Luego, derivando aquello se obtiene que s' = k_2[n_c] * m ** alpha[n_c] * s -s\n",
        "def s_prime(n_c, s, m):\n",
        "    return k_2[n_c] * m ** alpha[n_c] * s - s\n",
        "def a_prime(n_c,a,m,s):\n",
        "    return s-k_1[n_c]*m**2*a\n",
        "def m_prime(n_c,a,m,s):\n",
        "    return k_1[n_c]*m**2*a-k_2[n_c]*m**alpha[n_c]*s"
      ],
      "execution_count": 62,
      "outputs": []
    },
    {
      "cell_type": "code",
      "metadata": {
        "id": "EnEzHFCpRYE7"
      },
      "source": [
        "# Arreglos\n",
        "# Las listas a, m y s son las listas donde se guardan los valores que generan las funciones (es decir, el eje Y).\n",
        "# Debido al Euler, debemos generar una lista conformada por n ceros, para luego ser rellenada.\n",
        "a = [0]*n\n",
        "m = [0]*n\n",
        "s = [0]*n"
      ],
      "execution_count": 63,
      "outputs": []
    },
    {
      "cell_type": "code",
      "metadata": {
        "id": "1hu_N43sRYE7"
      },
      "source": [
        "# Definimos a(0), m(0) y s(0) para cualquier fila de la tabla, para no generar confusiones en el programa\n",
        "a[0] = a_0[n_c]\n",
        "m[0] = m_0[n_c]\n",
        "s[0] = 1 - a[0] - m[0]"
      ],
      "execution_count": 64,
      "outputs": []
    },
    {
      "cell_type": "code",
      "metadata": {
        "id": "6mZDzfN9RYE7"
      },
      "source": [
        "# MÉTODO EULER PROGRESIVO\n",
        "# Se crea una iteración para recorrer cada elemento de los vectores, para obtener así sus valores\n",
        "for i in range(len(T)-1):\n",
        "    a[i+1]=a_prime(n_c,a[i],m[i], s[i])*h+a[i]\n",
        "    m[i+1]=m_prime(n_c,a[i],m[i], s[i])*h+m[i]\n",
        "    s[i+1]=s_prime(n_c,s[i],m[i])*h+s[i]"
      ],
      "execution_count": 65,
      "outputs": []
    },
    {
      "cell_type": "code",
      "metadata": {
        "colab": {
          "base_uri": "https://localhost:8080/",
          "height": 409
        },
        "id": "AKinkjsrHtic",
        "outputId": "d4ca0b05-9b21-418e-b85b-4d75a6840522"
      },
      "source": [
        "# Grafique en un plano (a(t),m(t)) las trayectorias en función del tiempo (este plano es llamado plano de fases).\n",
        "fig = plt.figure(figsize=(8,6))\n",
        "plt.plot(a,m,color='turquoise')\n",
        "plt.title(\"Plano de fases \"+str(n_c+1),size='16')\n",
        "plt.xlabel(\"Fracción de gas atómico\",size='12')\n",
        "plt.ylabel(\"Fracción de gas molecular\",size='12')\n",
        "plt.savefig(\"Plano de fases \"+str(n_c+1))"
      ],
      "execution_count": 66,
      "outputs": [
        {
          "output_type": "display_data",
          "data": {
            "image/png": "[encoded data removed]",
            "text/plain": [
              "<Figure size 576x432 with 1 Axes>"
            ]
          },
          "metadata": {
            "tags": [],
            "needs_background": "light"
          }
        }
      ]
    }
  ]
}